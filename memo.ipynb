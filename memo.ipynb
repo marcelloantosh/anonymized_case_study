{
 "cells": [
  {
   "cell_type": "markdown",
   "metadata": {},
   "source": [
    "NOTE: The following case study is based on a company’s private dataset. This memo and the associated code has been anonymized."
   ]
  },
  {
   "cell_type": "markdown",
   "metadata": {},
   "source": [
    "# COMPANY Case Study"
   ]
  },
  {
   "cell_type": "markdown",
   "metadata": {},
   "source": [
    "COMPANY purchases ITEMS from merchants and rents them to customers. Interestingly, and perhaps surprisingly, some of these ITEMS increase in value.\n",
    "\n",
    "Reliable predictions about which ITEMS will increase in value may be highly relevant to COMPANY’s purchasing decisions and business model more generally. For example, COMPANY might adjust the pricing of its subscription plans—or create new ones—depending on the likelihood that ITEMS available under these plans will increase in value. Or COMPANY might strive to make strategic inroads into the ITEM sales or collections markets. Or COMPANY might cut costs by scaling back on the repair of rental ITEMS not likely to increase in value. For these and many other reasons, it may be possible for COMPANY to leverage predictions about increases in ITEM value to its advantage.\n",
    "\n",
    "For the purposes of this case study, I chose to construct a set of models to predict whether or not an ITEM from the dataset will increase in value. In this memo I describe five key insights that emerged from this process. Before discussing these insights and the process leading to them more fully below, I mention them here in summary fashion:\n",
    "\n",
    "Predicting Increases In ITEM Value: \n",
    "Using the dataset, I constructed three models to predict increases in ITEM value. The best of these models, a random forest model, predicts increases in ITEM value with a fairly high degree of performance (0.7015 AUC). Roughly speaking, this AUC metric is an aggregate measure of predictive performance that takes into account the number of true positives and false positives. This high-performing model identified the following four features as being especially predictive of whether or not an ITEM will increase in value:\n",
    "\n",
    "Price Paid: \n",
    "In a nonlinear fashion, the price COMPANY paid to obtain ITEMS is highly predictive of whether or not they will increase in value. Relatively inexpensive ITEMS (with purchase prices less than $n1) don’t tend to increase in value. Somewhat more expensive ITEMS (with purchase prices roughly between $n2-$n3) tend to increase in value. And premium priced ITEMS (with purchase prices over $n4) almost always increase in value. (Appendix Figure A.)\n",
    "\n",
    "BRAND’s ITEMS: \n",
    "Not all brands are created equally. And BRAND’s ITEMS, in particular, stood out: 96.25% of the time, BRAND’s ITEMS either decreased in value or remained the same value. \n",
    "\n",
    "MERCHANT: \n",
    "Merchants matter: ITEMS COMPANY purchased from MERCHANT increased in value 76% of the time.\n",
    "\n",
    "NaN – Unnamed Merchants: \n",
    "Merchants matter, revisited: ITEMS COMPANY purchased from merchants that were unnamed in the dataset rarely increased in value – only a mere 8.45% of the time. In other words, ITEMS COMPANY purchased from these merchants either decreased in value or remained the same value 91.55% of the time. \n",
    "\n",
    "In the sections below I briefly explain the motivation for building this predictive model, expand on some of the five key insights above, and note other considerations relevant to the models and this case study. The appendix includes rough tables and graphs relating to this discussion. And the repository includes relevant code for the models themselves. \n"
   ]
  },
  {
   "cell_type": "markdown",
   "metadata": {},
   "source": [
    "\n",
    "# Section 1. Preliminaries: Motivation for Predicting Increases In ITEM Value\n",
    "\n",
    "The dataset spans roughly 16 months making predicting broad seasonal trends not particularly promising. And there is not sufficient information in the dataset to create clusters of customer types. Thus two immediately interesting possibilities worth investigating were not viable in any obvious way. \n",
    "\n",
    "By comparison, trying to predict whether or not an ITEM in the dataset will increase in value seemed like a reasonable option. An ITEM might increase or fail to increase in value over the span of 16 months. And there are plenty of features in the dataset that may help to predict whether or not it does, such as its brand, initial purchase price, the ITEM’s merchant, etc. Trying to make this prediction also allowed me to sidestep two unusual aspects of the dataset that might interfere with other analyses or models: (1) spikes in stolen ITEMS in the Summer and Fall of 2021 (Appendix Figure B), and (2) an explainable but still initially curious tendency for the number of returns completed to be much greater than orders delivered (Appendix Figure C). Plausibly, these features of the dataset would not negatively impact models that seek to predict whether or not a ITEM increases in value, though they may more obviously and negatively impact models and analyses of, for instance, seasonal trends. \n",
    "\n"
   ]
  },
  {
   "cell_type": "markdown",
   "metadata": {},
   "source": [
    "# Section 2. Predicting Increases In ITEM Value\n",
    "\n",
    "In order to build models to predict increases in ITEM value—the target variable—, I needed to first identify some set of features that might predict its variance. To do this I performed a bivariate analysis. I examined if the variance of the target variable (increase in ITEM value, or not) could be predicted by variance of the feature in question. \n",
    "\n",
    "There were two types of features to consider, categorical features—like an ITEM being purchased from some particular merchant or being of a particular brand—, and quantitative features—like a numerical range in prices paid for ITEMS. Some early features I considered included price paid for ITEM, brand, merchant, and ITEM FEATURE. I also considered time-based features, such as whether the ITEMS were purchased on weekends or weekdays, or during business hours or outside of them but still during the week. (As a sample, see Appendix Figure D for the bivariate analysis of ITEM price.)\n",
    "\n",
    "After identifying features that seemed predictive, I then chose to identify the subcategories within these features (e.g. MERCHANT within the Merchant category; BRAND within the Brand category) that were most predictive of increases in ITEM value. To do this, I calculated the statistical power of each subcategory within the chosen features. Roughly, statistical power is a measure of the “true positive rate”—it is a way of measuring some relation between a feature (or subcategory of a feature) and the target variable if there really is some relation to detect. \n",
    "\n",
    "It is worth noting that, compared to the initial bivariate analysis above, this analysis of statistical power is more rigorous. This is because statistical power takes into account both the mean and number of samples within each subcategory and without reliance on human judgment. As a result, statistical power offers a way of quantifying the degree of certainty about the predictive value of a feature in a way that the bivariate analysis above did not. Using this approach I selected subcategories to use in my model. I limited my selection to only those subcategories having a statistical power equal to or greater than 0.8. (Appendix Figure E contains a table of many subcategorical features I included in my models.)\n",
    "\n",
    "I fit the data to three types of model: a logistic model, a decision tree, and a random forest. Logistic regression models are good because they don’t overfit the data but bad because they cannot naturally capture non linear relationships or synergic effects. In contrast, decision trees can capture non linear relationships and synergistic effects but carry the risk of overfitting the data. Random forests are an ensemble approach that makes use of many decision trees in a way that inhibits overfitting the data.\n",
    "\n",
    "The random forest model predicts increases in ITEM value with a high degree of performance (0.7015 AUC). The logistic regression and decision tree models perform less well by comparison (0.6445 AUC and 0.6901 AUC, respectively). \n",
    "\n",
    "It is worth noting that there are several ways to improve the performance of these models. For example, and for simplicity, when creating the training and test data sets for these models, the split was made randomly. Ideally, however, the split would take into account the fact that the data is made over time. Further, it is possible to improve model performance by feature scaling and by performing a grid search cross validation. And additional data cleaning may also yield improvements. For instance, I observed that subcategories ‘MERCHANT A’ and ‘MERCHANTA’ are included in the model. Ideally these “distinct” subcategories would be reduced to a single subcategory. Again, I omitted these further refinements for simplicity. "
   ]
  },
  {
   "cell_type": "markdown",
   "metadata": {},
   "source": [
    "# Section 3. The Four Most Predictive Features Of ITEM Value Increase And Other Considerations\n",
    "\n",
    "Although the random forest model incorporates several features to make its prediction, four of these are most predictive of whether or not a ITEM will increase in value: the price paid for the ITEM, whether or not its brand is BRAND’s ITEMS, whether or not the merchant is BRAND, and whether or not the merchant is unnamed in the dataset. \n",
    "\n",
    "It is worth noting that one of these features—price paid—is quantitative in nature. Interestingly there is not a simple linear relationship between the price COMPANY paid for the ITEM and whether or not it increases in value (again, see Appendix Figure A). Given this non-linear relationship, it makes sense that the logistic regression model underperformed both the decision tree and random forest models. \n",
    "\n",
    "It is important to emphasize that the model is predictive in nature and not necessarily explanatory in itself. So, for instance, while the fact that an ITEM COMPANY purchases from MERCHANT increases in value 76% of the time, this does not necessarily mean that buying an ITEM from MERCHANT will cause it to increase in value or explain why it does. Still, this predictive model can be used as a point of departure for any investigation into the explanatory mechanisms underlying changes in ITEM value. And regardless of whether these predictions reveal any deeper explanation about which ITEMS will increase in value, the model’s predictions may nevertheless usefully guide business decisions.\n",
    "\n",
    "There is a final consideration worth noting. The models constructed for this case study are classification models that only aim to predict whether or not an ITEM will increase in value. Because these models show some initial promise, there is some reason to explore their regression model counterparts. After all, suppose we have followed this model’s advice and decided to purchase some one type of ITEM, or scale back resources devoted to repairing another. Then a further choice to make is that of deciding how many of these ITEMS to buy, or how much to scale back repairs to those others. Regression models that build upon the backbone of these classification models can inform and guide these further decisions.\n"
   ]
  },
  {
   "cell_type": "markdown",
   "metadata": {},
   "source": [
    "# Appendix\n",
    "\n",
    "This appendix contains a limited selection of figures relating to the discussion above."
   ]
  },
  {
   "cell_type": "markdown",
   "metadata": {},
   "source": [
    "\n",
    "Figure A\n",
    "\n",
    "In a nonlinear fashion, the price COMPANY paid to obtain ITEMS is highly predictive of whether or not they will increase in value. Relatively inexpensive ITEMS (less than $N1) don’t tend to increase in value. Somewhat more expensive ITEMS (roughly between $N2-$N3, and delineated by the vertical dashed lines) tend to increase in value. And premium priced ITEMS (over $N4) almost always increase in value.\n",
    "\n"
   ]
  },
  {
   "cell_type": "markdown",
   "metadata": {},
   "source": [
    "![](figure_a.png)"
   ]
  },
  {
   "cell_type": "markdown",
   "metadata": {},
   "source": [
    "Figure B\n",
    "\n",
    "The number of ITEMS stolen each week, grouped by brand of ITEM. Notice increases during the Summer and Fall of 1991."
   ]
  },
  {
   "cell_type": "markdown",
   "metadata": {},
   "source": [
    "![](figure_b.png)"
   ]
  },
  {
   "cell_type": "markdown",
   "metadata": {},
   "source": [
    "Figure C\n",
    "\n",
    "The number of orders having a given status. Notice the number of returns completed is significantly greater than the number of orders delivered across all time periods. This is not impossible to explain but it is curious and may indicate that the case study dataset comes from a larger, more complete one."
   ]
  },
  {
   "cell_type": "markdown",
   "metadata": {},
   "source": [
    "![](figure_c.png)"
   ]
  },
  {
   "cell_type": "markdown",
   "metadata": {},
   "source": [
    "Figure D\n",
    "\n",
    "An initial bivariate analysis indicating whether or not an ITEM increases in value can be predicted on the basis of the initial price paid for the ITEM."
   ]
  },
  {
   "cell_type": "markdown",
   "metadata": {},
   "source": [
    "![](figure_d.png)"
   ]
  },
  {
   "cell_type": "markdown",
   "metadata": {},
   "source": [
    "Figure E\n",
    "\n",
    "A list of all the subcategorical features that may help to predict whether or not an ITEM will increase in value. The models I build make use of these features."
   ]
  },
  {
   "cell_type": "markdown",
   "metadata": {},
   "source": [
    "![](figure_e.png)"
   ]
  },
  {
   "cell_type": "markdown",
   "metadata": {},
   "source": [
    "![](figure_e.png)"
   ]
  }
 ],
 "metadata": {
  "interpreter": {
   "hash": "d98b4cf575a891b97ea43402398b6b9082f9e1cf0f07109cc211caf32ce43040"
  },
  "kernelspec": {
   "display_name": "Python 3.8.8 ('base')",
   "language": "python",
   "name": "python3"
  },
  "language_info": {
   "codemirror_mode": {
    "name": "ipython",
    "version": 3
   },
   "file_extension": ".py",
   "mimetype": "text/x-python",
   "name": "python",
   "nbconvert_exporter": "python",
   "pygments_lexer": "ipython3",
   "version": "3.8.8"
  },
  "orig_nbformat": 4
 },
 "nbformat": 4,
 "nbformat_minor": 2
}
